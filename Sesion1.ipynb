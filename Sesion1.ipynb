{
 "cells": [
  {
   "cell_type": "markdown",
   "metadata": {},
   "source": [
    "# Sesión de introducción a Python 3\n",
    "\n",
    "**luis.medina@certificatic.org**"
   ]
  },
  {
   "cell_type": "markdown",
   "metadata": {},
   "source": [
    "Realizar una función que decida si una cadena (string) binaria (de 0s y 1s) es impar.\n",
    "\n",
    "- El programa debe de aceptar “10001”.\n",
    "- El programa debe de rechazar “1010”."
   ]
  },
  {
   "cell_type": "code",
   "execution_count": 6,
   "metadata": {
    "collapsed": true
   },
   "outputs": [],
   "source": [
    "def is_binary(w):\n",
    "    last_digit = w[-1]\n",
    "    return last_digit == '0'"
   ]
  },
  {
   "cell_type": "markdown",
   "metadata": {},
   "source": [
    "Realizar una función que decida si una cadena formada únicamente por a’s y b’s no contiene tres a’s seguidas. Por ejemplo:\n",
    "\n",
    "- El programa debe de aceptar “aababba”.\n",
    "- El programa debe de rechazar “baaaa”."
   ]
  },
  {
   "cell_type": "code",
   "execution_count": 10,
   "metadata": {
    "collapsed": true
   },
   "outputs": [],
   "source": [
    "def no_three_as(w):\n",
    "    # contador de a's\n",
    "    counter = 0\n",
    "    for c in w:\n",
    "        # estado en el que se lee una b\n",
    "        if c == 'b':\n",
    "            counter = 0\n",
    "        # estado en el que se lee una a\n",
    "        elif c == 'a':\n",
    "            counter += 1\n",
    "        # validar si hay tres a's consecutivas\n",
    "        if counter > 2:\n",
    "            return False\n",
    "    return True\n",
    "\n",
    "def no_three_as(w):\n",
    "    return 'aaa' in w"
   ]
  },
  {
   "cell_type": "code",
   "execution_count": 5,
   "metadata": {},
   "outputs": [
    {
     "data": {
      "text/plain": [
       "False"
      ]
     },
     "execution_count": 5,
     "metadata": {},
     "output_type": "execute_result"
    }
   ],
   "source": [
    "no_three_as('ababaaabbaa')"
   ]
  },
  {
   "cell_type": "markdown",
   "metadata": {},
   "source": [
    "## Manejo de cadenas"
   ]
  },
  {
   "cell_type": "code",
   "execution_count": 11,
   "metadata": {},
   "outputs": [
    {
     "data": {
      "text/plain": [
       "True"
      ]
     },
     "execution_count": 11,
     "metadata": {},
     "output_type": "execute_result"
    }
   ],
   "source": [
    "# subcadenas\n",
    "'de ' in 'el fantasma de la ópera'"
   ]
  },
  {
   "cell_type": "code",
   "execution_count": 16,
   "metadata": {},
   "outputs": [
    {
     "name": "stdout",
     "output_type": "stream",
     "text": [
      "0 : e\n",
      "1 : l\n",
      "2 :  \n",
      "3 : f\n",
      "4 : a\n",
      "5 : n\n",
      "6 : t\n",
      "7 : a\n",
      "8 : s\n",
      "9 : m\n",
      "10 : a\n",
      "11 :  \n",
      "12 : d\n",
      "13 : e\n",
      "14 :  \n",
      "15 : l\n",
      "16 : a\n",
      "17 :  \n",
      "18 : ó\n",
      "19 : p\n",
      "20 : e\n",
      "21 : r\n",
      "22 : a\n"
     ]
    }
   ],
   "source": [
    "cadena = 'el fantasma de la ópera'\n",
    "for i, c in enumerate(cadena):\n",
    "    print(i, ':', c)"
   ]
  },
  {
   "cell_type": "code",
   "execution_count": 19,
   "metadata": {},
   "outputs": [
    {
     "data": {
      "text/plain": [
       "23"
      ]
     },
     "execution_count": 19,
     "metadata": {},
     "output_type": "execute_result"
    }
   ],
   "source": [
    "#for i in range(len(cadena)):\n",
    "#    print(i)\n",
    "len(cadena)"
   ]
  },
  {
   "cell_type": "markdown",
   "metadata": {},
   "source": [
    "## Listas por comprensión"
   ]
  },
  {
   "cell_type": "code",
   "execution_count": 20,
   "metadata": {},
   "outputs": [
    {
     "data": {
      "text/plain": [
       "[0, 3, 6, 9, 12, 15, 18, 21, 24, 27]"
      ]
     },
     "execution_count": 20,
     "metadata": {},
     "output_type": "execute_result"
    }
   ],
   "source": [
    "[n*3 for n in range(10)]"
   ]
  },
  {
   "cell_type": "code",
   "execution_count": 23,
   "metadata": {},
   "outputs": [
    {
     "data": {
      "text/plain": [
       "'elfantasmadelaópera'"
      ]
     },
     "execution_count": 23,
     "metadata": {},
     "output_type": "execute_result"
    }
   ],
   "source": [
    "''.join([c for c in cadena if c != ' '])"
   ]
  },
  {
   "cell_type": "markdown",
   "metadata": {},
   "source": [
    "## Diccionarios"
   ]
  },
  {
   "cell_type": "code",
   "execution_count": 25,
   "metadata": {},
   "outputs": [
    {
     "data": {
      "text/plain": [
       "'y'"
      ]
     },
     "execution_count": 25,
     "metadata": {},
     "output_type": "execute_result"
    }
   ],
   "source": [
    "diccionario = {\n",
    "    0: 'a',\n",
    "    1: 'b',\n",
    "    3: 'y'\n",
    "}\n",
    "diccionario[3]"
   ]
  },
  {
   "cell_type": "code",
   "execution_count": 26,
   "metadata": {},
   "outputs": [
    {
     "data": {
      "text/plain": [
       "{0: 0,\n",
       " 1: 1,\n",
       " 2: 4,\n",
       " 3: 9,\n",
       " 4: 16,\n",
       " 5: 25,\n",
       " 6: 36,\n",
       " 7: 49,\n",
       " 8: 64,\n",
       " 9: 81,\n",
       " 10: 100,\n",
       " 11: 121,\n",
       " 12: 144,\n",
       " 13: 169,\n",
       " 14: 196}"
      ]
     },
     "execution_count": 26,
     "metadata": {},
     "output_type": "execute_result"
    }
   ],
   "source": [
    "{i : i**2 for i in range(15)}"
   ]
  },
  {
   "cell_type": "code",
   "execution_count": 29,
   "metadata": {},
   "outputs": [
    {
     "data": {
      "text/plain": [
       "4"
      ]
     },
     "execution_count": 29,
     "metadata": {},
     "output_type": "execute_result"
    }
   ],
   "source": [
    "34 // 8"
   ]
  },
  {
   "cell_type": "code",
   "execution_count": 37,
   "metadata": {},
   "outputs": [
    {
     "name": "stdout",
     "output_type": "stream",
     "text": [
      "1\n"
     ]
    }
   ],
   "source": [
    "cadena = {} \n",
    "if not cadena:\n",
    "    print(1)\n",
    "else:\n",
    "    print(3)"
   ]
  },
  {
   "cell_type": "markdown",
   "metadata": {},
   "source": [
    "## Expresiones regulares"
   ]
  },
  {
   "cell_type": "code",
   "execution_count": 38,
   "metadata": {
    "collapsed": true
   },
   "outputs": [],
   "source": [
    "import re"
   ]
  },
  {
   "cell_type": "code",
   "execution_count": 91,
   "metadata": {
    "collapsed": true
   },
   "outputs": [],
   "source": [
    "expr_regular = re.compile(r'https?://(www\\.)?(\\w+)\\.(com|edu|org|unam)\\.(\\w{2})/')\n",
    "re_object = expr_regular.search('https://fciencias.unam.mx/')"
   ]
  },
  {
   "cell_type": "code",
   "execution_count": 92,
   "metadata": {},
   "outputs": [
    {
     "data": {
      "text/plain": [
       "'https://fciencias.unam.mx/'"
      ]
     },
     "execution_count": 92,
     "metadata": {},
     "output_type": "execute_result"
    }
   ],
   "source": [
    "re_object.group()"
   ]
  },
  {
   "cell_type": "markdown",
   "metadata": {},
   "source": [
    "## Rivescript"
   ]
  },
  {
   "cell_type": "code",
   "execution_count": 1,
   "metadata": {},
   "outputs": [
    {
     "name": "stdout",
     "output_type": "stream",
     "text": [
      "You> hello bot!\n",
      "Bot>  Hello, human!\n",
      "You> /quit\n"
     ]
    }
   ],
   "source": [
    "from rivescript import RiveScript\n",
    "\n",
    "bot = RiveScript()\n",
    "bot.load_directory('./')\n",
    "bot.sort_replies()\n",
    "\n",
    "while True:\n",
    "    msg = input('You> ')\n",
    "    if msg == '/quit':\n",
    "        break\n",
    "\n",
    "    reply = bot.reply(\"localuser\", msg)\n",
    "    print('Bot> ', reply)"
   ]
  },
  {
   "cell_type": "markdown",
   "metadata": {
    "collapsed": true
   },
   "source": [
    "## Asistente conversacional de una agencia de viajes\n",
    "albert@mariachi.io\n",
    "\n",
    "El chatbot debe de contener:\n",
    "- **AL MENOS 5 RESPUESTAS POR INTERACCIÓN**\n",
    "- Saludo\n",
    "- Preguntar cómo estás\n",
    "- Identificar si el usuario quiere un vuelo o si quiere consultar el estado de su vuelo\n",
    "    - Por el momento, si quiere _consultar el estado de su vuelo_, solo responder que\n",
    "      no está disponible la información.\n",
    "- Preguntar por la ciudad o aeropuerto de salida y de arribo\n",
    "- Preguntar por la fecha y hora de salida\n",
    "- Devolver la información del vuelo\n",
    "- Despedirse"
   ]
  },
  {
   "cell_type": "code",
   "execution_count": null,
   "metadata": {
    "collapsed": true
   },
   "outputs": [],
   "source": []
  }
 ],
 "metadata": {
  "kernelspec": {
   "display_name": "Python 3",
   "language": "python",
   "name": "python3"
  },
  "language_info": {
   "codemirror_mode": {
    "name": "ipython",
    "version": 3
   },
   "file_extension": ".py",
   "mimetype": "text/x-python",
   "name": "python",
   "nbconvert_exporter": "python",
   "pygments_lexer": "ipython3",
   "version": "3.6.1"
  }
 },
 "nbformat": 4,
 "nbformat_minor": 2
}
